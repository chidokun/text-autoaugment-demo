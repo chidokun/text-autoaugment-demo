{
 "cells": [
  {
   "cell_type": "markdown",
   "metadata": {},
   "source": [
    "# Text AutoAugment Demo\n",
    "\n",
    "In this notebook, we will conduct 2 demos about Text AutoAugment:\n",
    "\n",
    "- **Use pre-search policy**: Use IMDB pre-search policy for augmenting English examples.\n",
    "- **Search policy for Vietnamese dataset**: Use Vietnamese dataset for search policy and then augment some Vietnamese examples.\n",
    "\n",
    "## Demo 1: Use pre-searched policy"
   ]
  },
  {
   "cell_type": "markdown",
   "metadata": {},
   "source": [
    "### Read configuration"
   ]
  },
  {
   "cell_type": "code",
   "execution_count": 1,
   "metadata": {},
   "outputs": [
    {
     "data": {
      "text/plain": [
       "<theconf.config.Config at 0x7f3d5c305090>"
      ]
     },
     "execution_count": 1,
     "metadata": {},
     "output_type": "execute_result"
    }
   ],
   "source": [
    "from theconf import Config as C\n",
    "\n",
    "configfile=\"./taa/confs/english_data.yaml\"\n",
    "C(configfile)"
   ]
  },
  {
   "cell_type": "markdown",
   "metadata": {},
   "source": [
    "### Load custom dataset"
   ]
  },
  {
   "cell_type": "code",
   "execution_count": 2,
   "metadata": {},
   "outputs": [
    {
     "name": "stderr",
     "output_type": "stream",
     "text": [
      "/home/tuan/anaconda3/envs/taa/lib/python3.7/site-packages/tqdm/auto.py:22: TqdmWarning: IProgress not found. Please update jupyter and ipywidgets. See https://ipywidgets.readthedocs.io/en/stable/user_install.html\n",
      "  from .autonotebook import tqdm as notebook_tqdm\n",
      "Using custom data configuration data-696021b8a1128382\n",
      "Found cached dataset csv (/home/tuan/.cache/huggingface/datasets/csv/data-696021b8a1128382/0.0.0/6b34fb8fcf56f7c8ba51dc895bfa2bfbe43546f190a60fcf74bb5e8afdcc2317)\n"
     ]
    },
    {
     "data": {
      "text/plain": [
       "MemoryMappedTable\n",
       "text: string\n",
       "label: int64\n",
       "----\n",
       "text: [[\"The sailors rode the breeze clear of the rocks.\",\"The more you would want, the less you would eat.\"]]\n",
       "label: [[1,0]]"
      ]
     },
     "execution_count": 2,
     "metadata": {},
     "output_type": "execute_result"
    }
   ],
   "source": [
    "from datasets import load_dataset # load huggingface dataset\n",
    "\n",
    "train_dataset = load_dataset(path=\"./taa/data\", data_files={'train': 'english_data_train.csv', 'test': 'custom_data_test.csv'}, split='train')\n",
    "train_dataset.data"
   ]
  },
  {
   "cell_type": "markdown",
   "metadata": {},
   "source": [
    "### Train TF-IDF models for replacements "
   ]
  },
  {
   "cell_type": "code",
   "execution_count": 3,
   "metadata": {},
   "outputs": [
    {
     "name": "stdout",
     "output_type": "stream",
     "text": [
      "Use exist TF-IDF model\n"
     ]
    }
   ],
   "source": [
    "from taa.utils.train_tfidf import train_tfidf\n",
    "\n",
    "train_tfidf(\"imdb\")  # calculate tf-idf score for TS and TI operations"
   ]
  },
  {
   "cell_type": "markdown",
   "metadata": {},
   "source": [
    "### Initialize pre-search policy from IMDB dataset"
   ]
  },
  {
   "cell_type": "code",
   "execution_count": 4,
   "metadata": {},
   "outputs": [
    {
     "data": {
      "text/plain": [
       "[[('tfidf_word_substitute', 0.7701989738031709, 0.1413189624238933),\n",
       "  ('tfidf_word_substitute', 0.5017627182356647, 0.6120126108801994)],\n",
       " [('random_word_delete', 0.723773044425342, 0.09343851538354664),\n",
       "  ('tfidf_word_insert', 0.65871023661296, 0.18515171972877364)],\n",
       " [('tfidf_word_insert', 0.6855258510775246, 0.25155717455902515),\n",
       "  ('random_word_swap', 0.5855398958576279, 0.8038331622764382)],\n",
       " [('tfidf_word_substitute', 0.766621630113518, 0.9996972209388315),\n",
       "  ('tfidf_word_substitute', 0.35757492431715654, 0.5094646924565402)],\n",
       " [('tfidf_word_insert', 0.7201447184878109, 0.27394476379211474),\n",
       "  ('tfidf_word_insert', 0.7102010737993143, 0.7735198668033543)],\n",
       " [('random_word_swap', 0.2602481801512967, 0.1094817565926513),\n",
       "  ('random_word_swap', 0.377657390084737, 0.5860711221450985)],\n",
       " [('random_word_swap', 0.3628204769855412, 0.4174830136614628),\n",
       "  ('tfidf_word_substitute', 0.7449752005673833, 0.5806015818156878)],\n",
       " [('random_word_delete', 0.6869314076454281, 0.30212959898754665),\n",
       "  ('random_word_delete', 0.7791546348246594, 0.6329609313430418)],\n",
       " [('random_word_delete', 0.07837947214430199, 0.37349725564746655),\n",
       "  ('synonym_word_substitute', 0.6222849277805101, 0.6520156160496825)],\n",
       " [('tfidf_word_insert', 0.6448512230749102, 0.007104243636811641),\n",
       "  ('random_word_swap', 0.45273525613734494, 0.4978187905095047)],\n",
       " [('random_word_delete', 0.44394804096384133, 0.037671545592863925),\n",
       "  ('tfidf_word_substitute', 0.6899616027426003, 0.8021392220253207)]]"
      ]
     },
     "execution_count": 4,
     "metadata": {},
     "output_type": "execute_result"
    }
   ],
   "source": [
    "from taa.archive import policy_map\n",
    "\n",
    "policy = policy_map[\"imdb\"]\n",
    "policy"
   ]
  },
  {
   "cell_type": "code",
   "execution_count": 5,
   "metadata": {},
   "outputs": [],
   "source": [
    "from taa.transforms import Compose\n",
    "from taa.data import Augmentation\n",
    "\n",
    "transform_train = Compose([])\n",
    "transform_train.transforms.insert(0, Augmentation(policy))"
   ]
  },
  {
   "cell_type": "markdown",
   "metadata": {},
   "source": [
    "### Augment dataset"
   ]
  },
  {
   "cell_type": "code",
   "execution_count": 6,
   "metadata": {},
   "outputs": [],
   "source": [
    "from transformers import BertTokenizer, BertTokenizerFast\n",
    "from taa.utils.raw_data_utils import get_examples\n",
    "from taa.custom_dataset import general_dataset\n",
    "\n",
    "tokenizer = BertTokenizerFast.from_pretrained('bert-base-uncased')\n",
    "\n",
    "# normalize text and get example in train dataset\n",
    "examples = get_examples(train_dataset)\n",
    "\n",
    "# augment dataset\n",
    "augmented_dataset = general_dataset(examples, tokenizer, text_transform=transform_train)\n"
   ]
  },
  {
   "cell_type": "markdown",
   "metadata": {},
   "source": [
    "### Get results"
   ]
  },
  {
   "cell_type": "code",
   "execution_count": 7,
   "metadata": {},
   "outputs": [
    {
     "data": {
      "text/plain": [
       "['Sailors the rode the breeze sure clear of the. rocks',\n",
       " 'The sailors rode the clear breeze the of. rocks',\n",
       " 'The sailors rode the breeze of the rocks.',\n",
       " 'Drowning the planned sailors rode the breeze presented clear of decide the rocks.',\n",
       " 'More you the would want, less the would eat you.',\n",
       " 'The more you would require, the le you would eat.',\n",
       " 'More give the you would sure want the, less would you eat.',\n",
       " 'The recursive delicatessen whining lousy, the less under earth eat.']"
      ]
     },
     "execution_count": 7,
     "metadata": {},
     "output_type": "execute_result"
    }
   ],
   "source": [
    "augmented_dataset.texts"
   ]
  },
  {
   "cell_type": "code",
   "execution_count": 8,
   "metadata": {},
   "outputs": [
    {
     "data": {
      "text/plain": [
       "[1, 1, 1, 1, 0, 0, 0, 0]"
      ]
     },
     "execution_count": 8,
     "metadata": {},
     "output_type": "execute_result"
    }
   ],
   "source": [
    "augmented_dataset.labels"
   ]
  },
  {
   "cell_type": "markdown",
   "metadata": {},
   "source": [
    "## Demo 2: Search policies for Vietnamese dataset"
   ]
  },
  {
   "cell_type": "markdown",
   "metadata": {},
   "source": [
    "### The Vietnamese dataset\n",
    "\n",
    "We crawled the articles and their categories from Thanhnien and Tuoitre newspaper.\n",
    "\n",
    "We only take 5000 samples of articles, not the whole, for this demo.\n",
    "\n",
    "First, we load the dataset:"
   ]
  },
  {
   "cell_type": "code",
   "execution_count": 1,
   "metadata": {},
   "outputs": [
    {
     "data": {
      "text/html": [
       "<div>\n",
       "<style scoped>\n",
       "    .dataframe tbody tr th:only-of-type {\n",
       "        vertical-align: middle;\n",
       "    }\n",
       "\n",
       "    .dataframe tbody tr th {\n",
       "        vertical-align: top;\n",
       "    }\n",
       "\n",
       "    .dataframe thead th {\n",
       "        text-align: right;\n",
       "    }\n",
       "</style>\n",
       "<table border=\"1\" class=\"dataframe\">\n",
       "  <thead>\n",
       "    <tr style=\"text-align: right;\">\n",
       "      <th></th>\n",
       "      <th>id</th>\n",
       "      <th>link</th>\n",
       "      <th>title</th>\n",
       "      <th>thumbnail</th>\n",
       "      <th>time</th>\n",
       "      <th>summary</th>\n",
       "      <th>category</th>\n",
       "      <th>sub_category</th>\n",
       "      <th>full_article</th>\n",
       "      <th>text</th>\n",
       "    </tr>\n",
       "  </thead>\n",
       "  <tbody>\n",
       "    <tr>\n",
       "      <th>0</th>\n",
       "      <td>/post-1512613.html</td>\n",
       "      <td>https://thanhnien.vn/vinh-danh-va-ho-tro-lao-d...</td>\n",
       "      <td>Vinh danh và hỗ trợ lao động nữ phi chính thức...</td>\n",
       "      <td>https://image.thanhnien.vn/1200x630/Uploaded/2...</td>\n",
       "      <td>2022-10-20T16:30:43+0700</td>\n",
       "      <td>Nhân ngày Phụ nữ Việt Nam 20.10 sắp đến, Unile...</td>\n",
       "      <td>Đời sống</td>\n",
       "      <td>Cộng đồng</td>\n",
       "      <td>Nhân ngày Phụ nữ Việt Nam 20.10 sắp đến, Unil...</td>\n",
       "      <td>Vinh danh và hỗ trợ lao động nữ phi chính thức...</td>\n",
       "    </tr>\n",
       "  </tbody>\n",
       "</table>\n",
       "</div>"
      ],
      "text/plain": [
       "                   id                                               link  \\\n",
       "0  /post-1512613.html  https://thanhnien.vn/vinh-danh-va-ho-tro-lao-d...   \n",
       "\n",
       "                                               title  \\\n",
       "0  Vinh danh và hỗ trợ lao động nữ phi chính thức...   \n",
       "\n",
       "                                           thumbnail  \\\n",
       "0  https://image.thanhnien.vn/1200x630/Uploaded/2...   \n",
       "\n",
       "                       time  \\\n",
       "0  2022-10-20T16:30:43+0700   \n",
       "\n",
       "                                             summary  category sub_category  \\\n",
       "0  Nhân ngày Phụ nữ Việt Nam 20.10 sắp đến, Unile...  Đời sống    Cộng đồng   \n",
       "\n",
       "                                        full_article  \\\n",
       "0   Nhân ngày Phụ nữ Việt Nam 20.10 sắp đến, Unil...   \n",
       "\n",
       "                                                text  \n",
       "0  Vinh danh và hỗ trợ lao động nữ phi chính thức...  "
      ]
     },
     "execution_count": 1,
     "metadata": {},
     "output_type": "execute_result"
    }
   ],
   "source": [
    "import pandas as pd\n",
    "\n",
    "df = pd.read_csv(\"./taa/data/data_lite.csv\")\n",
    "df.head(1)"
   ]
  },
  {
   "cell_type": "markdown",
   "metadata": {},
   "source": [
    "Transfrom into the form of TAA Dataset"
   ]
  },
  {
   "cell_type": "code",
   "execution_count": 2,
   "metadata": {},
   "outputs": [
    {
     "data": {
      "text/html": [
       "<div>\n",
       "<style scoped>\n",
       "    .dataframe tbody tr th:only-of-type {\n",
       "        vertical-align: middle;\n",
       "    }\n",
       "\n",
       "    .dataframe tbody tr th {\n",
       "        vertical-align: top;\n",
       "    }\n",
       "\n",
       "    .dataframe thead th {\n",
       "        text-align: right;\n",
       "    }\n",
       "</style>\n",
       "<table border=\"1\" class=\"dataframe\">\n",
       "  <thead>\n",
       "    <tr style=\"text-align: right;\">\n",
       "      <th></th>\n",
       "      <th>text</th>\n",
       "      <th>label</th>\n",
       "    </tr>\n",
       "  </thead>\n",
       "  <tbody>\n",
       "    <tr>\n",
       "      <th>0</th>\n",
       "      <td>Vinh danh và hỗ trợ lao động nữ phi chính thức...</td>\n",
       "      <td>Đời sống</td>\n",
       "    </tr>\n",
       "    <tr>\n",
       "      <th>1</th>\n",
       "      <td>Chuyện lạ ở bản Robinson - Kỳ cuối: Phá đá, gi...</td>\n",
       "      <td>Thời sự</td>\n",
       "    </tr>\n",
       "    <tr>\n",
       "      <th>2</th>\n",
       "      <td>TNGT chết người do uống rượu bia: CSGT TP.HCM ...</td>\n",
       "      <td>Đời sống</td>\n",
       "    </tr>\n",
       "    <tr>\n",
       "      <th>3</th>\n",
       "      <td>Truyền thông Nhật chỉ ra mưu đồ của Trung Quốc...</td>\n",
       "      <td>Thế giới</td>\n",
       "    </tr>\n",
       "    <tr>\n",
       "      <th>4</th>\n",
       "      <td>Quyền Linh ngỡ ngàng trước người phụ nữ U.60 x...</td>\n",
       "      <td>Giải trí</td>\n",
       "    </tr>\n",
       "    <tr>\n",
       "      <th>...</th>\n",
       "      <td>...</td>\n",
       "      <td>...</td>\n",
       "    </tr>\n",
       "    <tr>\n",
       "      <th>4995</th>\n",
       "      <td>Hết tình ruột thịt. TT - Phe nguyên đơn tố bị ...</td>\n",
       "      <td>Pháp luật</td>\n",
       "    </tr>\n",
       "    <tr>\n",
       "      <th>4996</th>\n",
       "      <td>Hoa cúc dại và một vài khía cạnh phận người. T...</td>\n",
       "      <td>Văn hóa</td>\n",
       "    </tr>\n",
       "    <tr>\n",
       "      <th>4997</th>\n",
       "      <td>Con trai NSƯT Kim Phương tiết lộ lý do từng gi...</td>\n",
       "      <td>Giải trí</td>\n",
       "    </tr>\n",
       "    <tr>\n",
       "      <th>4998</th>\n",
       "      <td>Ba oanh tạc cơ Trung Quốc mang tên lửa hành tr...</td>\n",
       "      <td>Thế giới</td>\n",
       "    </tr>\n",
       "    <tr>\n",
       "      <th>4999</th>\n",
       "      <td>An táng 3 hài cốt liệt sĩ. Sáng 12.5, TP.Kon T...</td>\n",
       "      <td>Thời sự</td>\n",
       "    </tr>\n",
       "  </tbody>\n",
       "</table>\n",
       "<p>5000 rows × 2 columns</p>\n",
       "</div>"
      ],
      "text/plain": [
       "                                                   text      label\n",
       "0     Vinh danh và hỗ trợ lao động nữ phi chính thức...   Đời sống\n",
       "1     Chuyện lạ ở bản Robinson - Kỳ cuối: Phá đá, gi...    Thời sự\n",
       "2     TNGT chết người do uống rượu bia: CSGT TP.HCM ...   Đời sống\n",
       "3     Truyền thông Nhật chỉ ra mưu đồ của Trung Quốc...   Thế giới\n",
       "4     Quyền Linh ngỡ ngàng trước người phụ nữ U.60 x...   Giải trí\n",
       "...                                                 ...        ...\n",
       "4995  Hết tình ruột thịt. TT - Phe nguyên đơn tố bị ...  Pháp luật\n",
       "4996  Hoa cúc dại và một vài khía cạnh phận người. T...    Văn hóa\n",
       "4997  Con trai NSƯT Kim Phương tiết lộ lý do từng gi...   Giải trí\n",
       "4998  Ba oanh tạc cơ Trung Quốc mang tên lửa hành tr...   Thế giới\n",
       "4999  An táng 3 hài cốt liệt sĩ. Sáng 12.5, TP.Kon T...    Thời sự\n",
       "\n",
       "[5000 rows x 2 columns]"
      ]
     },
     "execution_count": 2,
     "metadata": {},
     "output_type": "execute_result"
    }
   ],
   "source": [
    "df2 = pd.DataFrame()\n",
    "df2[\"text\"] = df[\"text\"]\n",
    "df2[\"label\"] = df[\"category\"]\n",
    "df2"
   ]
  },
  {
   "cell_type": "code",
   "execution_count": 5,
   "metadata": {},
   "outputs": [],
   "source": [
    "df_train = pd.DataFrame(columns=[\"text\", \"label\"])\n",
    "df_test = pd.DataFrame(columns=[\"text\", \"label\"])\n",
    "\n",
    "categories = df2[\"label\"].unique()\n",
    "for i in range(len(categories)):\n",
    "    dff = df2[df2[\"label\"] == categories[i]].copy()\n",
    "    dff[\"label\"] = i\n",
    "    df_train = pd.concat([df_train, dff.sample(50)])\n",
    "    df_test = pd.concat([df_test, dff.sample(10)])\n"
   ]
  },
  {
   "cell_type": "code",
   "execution_count": 6,
   "metadata": {},
   "outputs": [],
   "source": [
    "df_train.to_csv(\"./taa/data/vietnamese_data_train.csv\", index=False)"
   ]
  },
  {
   "cell_type": "code",
   "execution_count": 7,
   "metadata": {},
   "outputs": [],
   "source": [
    "df_test.to_csv(\"./taa/data/vietnamese_data_test.csv\", index=False)"
   ]
  },
  {
   "cell_type": "markdown",
   "metadata": {},
   "source": [
    "### Load config for training"
   ]
  },
  {
   "cell_type": "code",
   "execution_count": 1,
   "metadata": {},
   "outputs": [],
   "source": [
    "from theconf import Config as C\n",
    "\n",
    "configfile=\"./taa/confs/vietnamese_data.yaml\"\n",
    "C(configfile)\n",
    "\n",
    "name = C.get()['dataset']['name']\n",
    "path = C.get()['dataset']['path']\n",
    "data_dir = C.get()['dataset']['data_dir']\n",
    "data_files = C.get()['dataset']['data_files']\n",
    "abspath = C.get()['abspath']"
   ]
  },
  {
   "cell_type": "code",
   "execution_count": 2,
   "metadata": {},
   "outputs": [
    {
     "name": "stderr",
     "output_type": "stream",
     "text": [
      "/home/tuan/anaconda3/envs/taa/lib/python3.7/site-packages/tqdm/auto.py:22: TqdmWarning: IProgress not found. Please update jupyter and ipywidgets. See https://ipywidgets.readthedocs.io/en/stable/user_install.html\n",
      "  from .autonotebook import tqdm as notebook_tqdm\n",
      "[2022-12-05 02:17:18,177] [Text AutoAugment] [INFO] ----- Search Test-Time Augmentation Policies -----\n",
      "INFO:Text AutoAugment:----- Search Test-Time Augmentation Policies -----\n",
      "[2022-12-05 02:17:18,178] [Text AutoAugment] [INFO] ---------------------------------------------------\n",
      "INFO:Text AutoAugment:---------------------------------------------------\n",
      "[2022-12-05 02:17:18,179] [Text AutoAugment] [INFO] Loading configuration...\n",
      "INFO:Text AutoAugment:Loading configuration...\n",
      "[2022-12-05 02:17:18,180] [Text AutoAugment] [INFO] Initialize ray...\n",
      "INFO:Text AutoAugment:Initialize ray...\n",
      "2022-12-05 02:17:19,805\tINFO worker.py:1528 -- Started a local Ray instance.\n",
      "WARNING:datasets.builder:Using custom data configuration data-3d2a08f5fac112cb\n",
      "WARNING:datasets.builder:Found cached dataset csv (/home/tuan/.cache/huggingface/datasets/csv/data-3d2a08f5fac112cb/0.0.0/6b34fb8fcf56f7c8ba51dc895bfa2bfbe43546f190a60fcf74bb5e8afdcc2317)\n",
      "[2022-12-05 02:17:20,620] [Text AutoAugment] [INFO] Total computation for policy search is 0.00\n",
      "INFO:Text AutoAugment:Total computation for policy search is 0.00\n"
     ]
    },
    {
     "name": "stdout",
     "output_type": "stream",
     "text": [
      "Make TF-IDF model directory: /mnt/d/Projects/text-autoaugment-demo/model_vietnamese_data/models/tfidf/vietnamese_data\n",
      "Start training TF-IDF model. It will take a long time if the training dataset is too large\n"
     ]
    }
   ],
   "source": [
    "from taa.search import search_policy\n",
    "\n",
    "policy = search_policy(dataset=name, abspath=abspath)"
   ]
  },
  {
   "cell_type": "code",
   "execution_count": 3,
   "metadata": {},
   "outputs": [
    {
     "data": {
      "text/plain": [
       "[[('random_word_delete', 0.15261443795599705, 0.3110128094476705),\n",
       "  ('tfidf_word_insert', 0.22059275510321485, 0.4649998836289846)],\n",
       " [('random_word_delete', 0.8058680196213712, 0.20768275560245286),\n",
       "  ('tfidf_word_substitute', 0.4394515917253494, 0.4136585244395893)],\n",
       " [('tfidf_word_insert', 0.5845974078768156, 0.6622019273601056),\n",
       "  ('random_word_swap', 0.527412040516822, 0.5540955328641466)],\n",
       " [('tfidf_word_substitute', 0.1587482939759266, 0.3513911551555692),\n",
       "  ('tfidf_word_insert', 0.05255856587984242, 0.6633878446874389)]]"
      ]
     },
     "execution_count": 3,
     "metadata": {},
     "output_type": "execute_result"
    }
   ],
   "source": [
    "policy"
   ]
  },
  {
   "cell_type": "code",
   "execution_count": 4,
   "metadata": {},
   "outputs": [
    {
     "name": "stderr",
     "output_type": "stream",
     "text": [
      "WARNING:datasets.builder:Using custom data configuration data-3d2a08f5fac112cb\n",
      "WARNING:datasets.builder:Found cached dataset csv (/home/tuan/.cache/huggingface/datasets/csv/data-3d2a08f5fac112cb/0.0.0/6b34fb8fcf56f7c8ba51dc895bfa2bfbe43546f190a60fcf74bb5e8afdcc2317)\n"
     ]
    }
   ],
   "source": [
    "from datasets import load_dataset # load huggingface dataset\n",
    "\n",
    "test_dataset = load_dataset(path=\"./taa/data\", data_files={'train': 'vietnamese_data_train.csv', 'test': 'vietnamese_data_test.csv'}, split='test')"
   ]
  },
  {
   "cell_type": "code",
   "execution_count": 5,
   "metadata": {},
   "outputs": [
    {
     "name": "stderr",
     "output_type": "stream",
     "text": [
      "loading file vocab.txt from cache at /home/tuan/.cache/huggingface/hub/models--bert-base-uncased/snapshots/0a6aa9128b6194f4f3c4db429b6cb4891cdb421b/vocab.txt\n",
      "loading file tokenizer.json from cache at /home/tuan/.cache/huggingface/hub/models--bert-base-uncased/snapshots/0a6aa9128b6194f4f3c4db429b6cb4891cdb421b/tokenizer.json\n",
      "loading file added_tokens.json from cache at None\n",
      "loading file special_tokens_map.json from cache at None\n",
      "loading file tokenizer_config.json from cache at /home/tuan/.cache/huggingface/hub/models--bert-base-uncased/snapshots/0a6aa9128b6194f4f3c4db429b6cb4891cdb421b/tokenizer_config.json\n",
      "loading configuration file config.json from cache at /home/tuan/.cache/huggingface/hub/models--bert-base-uncased/snapshots/0a6aa9128b6194f4f3c4db429b6cb4891cdb421b/config.json\n",
      "Model config BertConfig {\n",
      "  \"_name_or_path\": \"bert-base-uncased\",\n",
      "  \"architectures\": [\n",
      "    \"BertForMaskedLM\"\n",
      "  ],\n",
      "  \"attention_probs_dropout_prob\": 0.1,\n",
      "  \"classifier_dropout\": null,\n",
      "  \"gradient_checkpointing\": false,\n",
      "  \"hidden_act\": \"gelu\",\n",
      "  \"hidden_dropout_prob\": 0.1,\n",
      "  \"hidden_size\": 768,\n",
      "  \"initializer_range\": 0.02,\n",
      "  \"intermediate_size\": 3072,\n",
      "  \"layer_norm_eps\": 1e-12,\n",
      "  \"max_position_embeddings\": 512,\n",
      "  \"model_type\": \"bert\",\n",
      "  \"num_attention_heads\": 12,\n",
      "  \"num_hidden_layers\": 12,\n",
      "  \"pad_token_id\": 0,\n",
      "  \"position_embedding_type\": \"absolute\",\n",
      "  \"transformers_version\": \"4.24.0\",\n",
      "  \"type_vocab_size\": 2,\n",
      "  \"use_cache\": true,\n",
      "  \"vocab_size\": 30522\n",
      "}\n",
      "\n",
      "*** SIGTERM received at time=1670181617 on cpu 2 ***\n",
      "PC: @     0x7fb9d575dac5  (unknown)  sem_post@@GLIBC_2.2.5\n",
      "    @     0x7fb9d575f420  (unknown)  (unknown)\n",
      "    @           0x6df2a0  (unknown)  (unknown)\n",
      "[2022-12-05 02:20:17,515 E 19531 16988] logging.cc:361: *** SIGTERM received at time=1670181617 on cpu 2 ***\n",
      "[2022-12-05 02:20:17,515 E 19531 16988] logging.cc:361: PC: @     0x7fb9d575dac5  (unknown)  sem_post@@GLIBC_2.2.5\n",
      "[2022-12-05 02:20:17,517 E 19531 16988] logging.cc:361:     @     0x7fb9d575f420  (unknown)  (unknown)\n",
      "[2022-12-05 02:20:17,519 E 19531 16988] logging.cc:361:     @           0x6df2a0  (unknown)  (unknown)\n"
     ]
    }
   ],
   "source": [
    "from taa.data import augment\n",
    "\n",
    "augmented_dataset = augment(dataset=test_dataset, policy=policy, n_aug=4)"
   ]
  },
  {
   "cell_type": "code",
   "execution_count": 10,
   "metadata": {},
   "outputs": [
    {
     "data": {
      "text/plain": [
       "<pyarrow.StringScalar: 'Vợ chồng viên chức tỉnh thu nhập 10 triệu, nuôi 2 con nhỏ chi hết 15 triệu/tháng. Để đủ tiền chi tiêu cho một tháng, công nhân - viên chức sống tại TP.Đồng Hới Quảng Bình vẫn phải làm thêm mới đủ tiền chi tiêu trong gia đình; công nhân Quảng Trị dù trốn về quê làm việc vẫn xoay sở khó khăn trước bão giá.'>"
      ]
     },
     "execution_count": 10,
     "metadata": {},
     "output_type": "execute_result"
    }
   ],
   "source": [
    "test_dataset.data[\"text\"][0]"
   ]
  },
  {
   "cell_type": "code",
   "execution_count": 7,
   "metadata": {},
   "outputs": [
    {
     "data": {
      "text/plain": [
       "['Độ vợ rộ chồng viên chức truyện tỉnh thu nhập 10 xẻ triệu, yếu nuôi Huy 2 con nhỏ chi hết bận 15 triệu / tháng. gánh Để đoan đủ tiền chi tiêu cho một 113 tháng, công vạ nhân - viên chức Nhái sống tại TP. Đồng Hới Quảng Sơn Bình vẫn phải khoắn làm thêm pháp mới khả đủ tiền SAIGONBANK chi tiêu trong chừng gia kiếp đình; chỉ công GDI nhân Quảng Trị khống dù trốn về quê làm quà việc vẫn buổi xoay sở khó khăn trước Thịnh bão giá.',\n",
       " 'Vợ chồng viên chức tỉnh thu nhập 10 triệu, nuôi 2 con nhỏ chi hết 15 triệu/tháng. Để đủ tiền chi tiêu cho một tháng, công nhân - viên chức sống tại TP.Đồng Hới Quảng Bình vẫn phải làm thêm mới đủ tiền chi tiêu trong gia đình; công nhân Quảng Trị dù trốn về quê làm việc vẫn xoay sở khó khăn trước bão giá.',\n",
       " 'Vợ chồng thâm viên lao chức tỉnh rốn thu nhập Alone 10 triệu, chở nuôi 2 khảnh con nhỏ vằn chi Cristian hết 15 triệu / tháng. thỉ Để đủ tiền Cẩm chi tiêu khôi cho Tuất một tháng, công thép nhân - viên giày chức sống tại TP. Tập Đồng Hới Quảng lỡ Bình vẫn phải ấm làm thêm mới đủ Mỗi tiền chi tiêu Tí trong gia đình; toán công SAIGONBANK nhân Đùng Quảng chác Trị Cloud dù trốn về quê làm việc vẫn xoay sở khó tản khăn trước bão giá.',\n",
       " 'Vợ chồng viên tỉnh thu nhập 10 triệu, nuôi 2 con nhỏ hết 15 triệu / tháng. Để tiền chi tiêu cho một tháng, công nhân - viên chức tại TP. Đồng Hới Quảng Bình vẫn phải làm thêm mới đủ tiền chi tiêu trong gia; công nhân Trị dù về quê làm việc vẫn sở khó khăn trước bão giá.']"
      ]
     },
     "execution_count": 7,
     "metadata": {},
     "output_type": "execute_result"
    }
   ],
   "source": [
    "augmented_dataset.texts[0:4]"
   ]
  }
 ],
 "metadata": {
  "kernelspec": {
   "display_name": "Python 3.7.15 ('taa')",
   "language": "python",
   "name": "python3"
  },
  "language_info": {
   "codemirror_mode": {
    "name": "ipython",
    "version": 3
   },
   "file_extension": ".py",
   "mimetype": "text/x-python",
   "name": "python",
   "nbconvert_exporter": "python",
   "pygments_lexer": "ipython3",
   "version": "3.7.15"
  },
  "orig_nbformat": 4,
  "vscode": {
   "interpreter": {
    "hash": "ab0f889842ee4a8ae349961bd61ed327faac821ffc5298512ab6094b2399dbf1"
   }
  }
 },
 "nbformat": 4,
 "nbformat_minor": 2
}
